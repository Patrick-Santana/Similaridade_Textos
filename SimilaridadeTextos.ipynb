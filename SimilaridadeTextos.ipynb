{
  "nbformat": 4,
  "nbformat_minor": 0,
  "metadata": {
    "colab": {
      "name": "SimilaridadeTextos.ipynb",
      "provenance": [],
      "collapsed_sections": []
    },
    "kernelspec": {
      "name": "python3",
      "display_name": "Python 3"
    }
  },
  "cells": [
    {
      "cell_type": "markdown",
      "metadata": {
        "id": "BB3GGlXzVtVx"
      },
      "source": [
        "\n",
        "\n",
        "```\n",
        "# Medida de Similaridade entre Textos\n",
        "```\n",
        "\n",
        "\n",
        "\n",
        "*   Neste Notebook, utilizaremos a função contaiment, Responsável por comparar dois textos e analisar a similaridade dos mesmos, com a relação aos seus n-gramas de interação.\n",
        "\n",
        "\n",
        "\n"
      ]
    },
    {
      "cell_type": "markdown",
      "metadata": {
        "id": "uVYFmmVrWc7F"
      },
      "source": [
        "\n",
        "\n",
        "```\n",
        "# Contar N-Grama\n",
        "```\n",
        "\n",
        "\n",
        "\n",
        "*   palavras, Letras\n",
        "*   Simbolos, Classificação gramatical e etc\n",
        " \n",
        "\n",
        "\n",
        "\n"
      ]
    },
    {
      "cell_type": "code",
      "metadata": {
        "id": "ioCDf5tbVmzj"
      },
      "source": [
        "import numpy as np\n",
        "import sklearn"
      ],
      "execution_count": 1,
      "outputs": []
    },
    {
      "cell_type": "markdown",
      "metadata": {
        "id": "7FfnL4QJJpGH"
      },
      "source": [
        "> Unigrama\n",
        "\n"
      ]
    },
    {
      "cell_type": "code",
      "metadata": {
        "id": "S0EuBxi2G_OC",
        "outputId": "5842e22a-e52a-4f1f-e384-0a7587d03be2",
        "colab": {
          "base_uri": "https://localhost:8080/"
        }
      },
      "source": [
        "from sklearn.feature_extraction.text import CountVectorizer\n",
        "\n",
        "texto_comparado = \"Um dia um adeus eu indo embora, com tanta loucura em meio a aventura\"\n",
        "\n",
        "texto_fonte = \" Eu indo embora, Quanta loucura,Por tão pouca aventura,Agora entendo\"\n",
        "\n",
        "# Númeero de n_gramas\n",
        "n = 1\n",
        "\n",
        "#Instancia o contador de N-gramas\n",
        "counts = CountVectorizer(analyzer='word', ngram_range=(n,n))\n",
        "\n",
        "# Criando um dicionario de n-gramas\n",
        "vocab2int = counts.fit([texto_comparado, texto_fonte]).vocabulary_\n",
        "\n",
        "print(vocab2int)"
      ],
      "execution_count": 2,
      "outputs": [
        {
          "output_type": "stream",
          "text": [
            "{'um': 17, 'dia': 4, 'adeus': 0, 'eu': 8, 'indo': 9, 'embora': 6, 'com': 3, 'tanta': 15, 'loucura': 10, 'em': 5, 'meio': 11, 'aventura': 2, 'quanta': 14, 'por': 12, 'tão': 16, 'pouca': 13, 'agora': 1, 'entendo': 7}\n"
          ],
          "name": "stdout"
        }
      ]
    },
    {
      "cell_type": "markdown",
      "metadata": {
        "id": "GrcXTIKZWbAJ"
      },
      "source": [
        "> Bigrama"
      ]
    },
    {
      "cell_type": "code",
      "metadata": {
        "id": "r9W0FH95WCUX",
        "outputId": "6646c0ae-c458-4564-d1b3-5fdbe90c3407",
        "colab": {
          "base_uri": "https://localhost:8080/"
        }
      },
      "source": [
        "n = 2\n",
        "\n",
        "counts = CountVectorizer(analyzer='word', ngram_range=(n,n))\n",
        "\n",
        "vocab2int = counts.fit([texto_comparado, texto_fonte]).vocabulary_\n",
        "\n",
        "print(vocab2int)"
      ],
      "execution_count": 3,
      "outputs": [
        {
          "output_type": "stream",
          "text": [
            "{'um dia': 19, 'dia um': 4, 'um adeus': 18, 'adeus eu': 0, 'eu indo': 8, 'indo embora': 9, 'embora com': 6, 'com tanta': 3, 'tanta loucura': 16, 'loucura em': 10, 'em meio': 5, 'meio aventura': 12, 'embora quanta': 7, 'quanta loucura': 15, 'loucura por': 11, 'por tão': 13, 'tão pouca': 17, 'pouca aventura': 14, 'aventura agora': 2, 'agora entendo': 1}\n"
          ],
          "name": "stdout"
        }
      ]
    },
    {
      "cell_type": "markdown",
      "metadata": {
        "id": "tW25mZi1XWXB"
      },
      "source": [
        "> Trigrama"
      ]
    },
    {
      "cell_type": "code",
      "metadata": {
        "id": "16pQqjP6XAUq",
        "outputId": "9244adee-7bd0-49d2-fb9b-71153f2963ff",
        "colab": {
          "base_uri": "https://localhost:8080/"
        }
      },
      "source": [
        "n = 3\n",
        "\n",
        "\n",
        "counts = CountVectorizer(analyzer='word', ngram_range=(n,n))\n",
        "\n",
        "vocab2int = counts.fit([texto_comparado, texto_fonte]).vocabulary_\n",
        "\n",
        "print(vocab2int)\n"
      ],
      "execution_count": 4,
      "outputs": [
        {
          "output_type": "stream",
          "text": [
            "{'um dia um': 18, 'dia um adeus': 3, 'um adeus eu': 17, 'adeus eu indo': 0, 'eu indo embora': 7, 'indo embora com': 8, 'embora com tanta': 5, 'com tanta loucura': 2, 'tanta loucura em': 15, 'loucura em meio': 10, 'em meio aventura': 4, 'indo embora quanta': 9, 'embora quanta loucura': 6, 'quanta loucura por': 14, 'loucura por tão': 11, 'por tão pouca': 12, 'tão pouca aventura': 16, 'pouca aventura agora': 13, 'aventura agora entendo': 1}\n"
          ],
          "name": "stdout"
        }
      ]
    },
    {
      "cell_type": "markdown",
      "metadata": {
        "id": "tH37HGVVdgK6"
      },
      "source": [
        "> Array de n-gramas\n",
        "\n",
        "*   Vamos utilizar o CountVectorizer para criar um array com as contagens de n-gramas\n",
        "\n",
        "\n"
      ]
    },
    {
      "cell_type": "code",
      "metadata": {
        "id": "6hSOqsQnXiRy",
        "outputId": "5ad3963b-9ddd-4dbc-e708-af87754d5535",
        "colab": {
          "base_uri": "https://localhost:8080/"
        }
      },
      "source": [
        "#N-gramas\n",
        "\n",
        "n = 1\n",
        "\n",
        "#Instancia o contador de n-gramas\n",
        "counts = CountVectorizer(analyzer='word', ngram_range=(n,n))\n",
        "\n",
        "#Criar uma matriz de contagem de n=grama para dois textos\n",
        "n_grams = counts.fit_transform([texto_comparado, texto_fonte])\n",
        "\n",
        "#Criando um dicionário de n-gramas\n",
        "vocab2int = counts.fit([texto_comparado, texto_fonte]).vocabulary_\n",
        "\n",
        "n_grams_array = n_grams.toarray()\n",
        "\n",
        "print('Vetor de n-gramas:\\n\\n', n_grams_array)\n",
        "\n",
        "print()\n",
        "\n",
        "print('Dicionario d en-gramas (unigrama):\\n\\n', vocab2int)\n"
      ],
      "execution_count": 7,
      "outputs": [
        {
          "output_type": "stream",
          "text": [
            "Vetor de n-gramas:\n",
            "\n",
            " [[1 0 1 1 1 1 1 0 1 1 1 1 0 0 0 1 0 2]\n",
            " [0 1 1 0 0 0 1 1 1 1 1 0 1 1 1 0 1 0]]\n",
            "\n",
            "Dicionario d en-gramas (unigrama):\n",
            "\n",
            " {'um': 17, 'dia': 4, 'adeus': 0, 'eu': 8, 'indo': 9, 'embora': 6, 'com': 3, 'tanta': 15, 'loucura': 10, 'em': 5, 'meio': 11, 'aventura': 2, 'quanta': 14, 'por': 12, 'tão': 16, 'pouca': 13, 'agora': 1, 'entendo': 7}\n"
          ],
          "name": "stdout"
        }
      ]
    },
    {
      "cell_type": "code",
      "metadata": {
        "id": "e18Zhmd189ys",
        "outputId": "b211e913-fe5c-476c-9015-3f220af37eff",
        "colab": {
          "base_uri": "https://localhost:8080/"
        }
      },
      "source": [
        "n_grams"
      ],
      "execution_count": 8,
      "outputs": [
        {
          "output_type": "execute_result",
          "data": {
            "text/plain": [
              "<2x18 sparse matrix of type '<class 'numpy.int64'>'\n",
              "\twith 23 stored elements in Compressed Sparse Row format>"
            ]
          },
          "metadata": {
            "tags": []
          },
          "execution_count": 8
        }
      ]
    },
    {
      "cell_type": "code",
      "metadata": {
        "id": "kege5QeJDmDr",
        "outputId": "bf420fbc-4dc8-44c7-b416-e79087f6d5d9",
        "colab": {
          "base_uri": "https://localhost:8080/"
        }
      },
      "source": [
        "n_grams.toarray()"
      ],
      "execution_count": 10,
      "outputs": [
        {
          "output_type": "execute_result",
          "data": {
            "text/plain": [
              "array([[1, 0, 1, 1, 1, 1, 1, 0, 1, 1, 1, 1, 0, 0, 0, 1, 0, 2],\n",
              "       [0, 1, 1, 0, 0, 0, 1, 1, 1, 1, 1, 0, 1, 1, 1, 0, 1, 0]])"
            ]
          },
          "metadata": {
            "tags": []
          },
          "execution_count": 10
        }
      ]
    },
    {
      "cell_type": "code",
      "metadata": {
        "id": "wQt60sMFDtOG",
        "outputId": "f7c768ba-8d1d-4a41-8afa-2180e72a722d",
        "colab": {
          "base_uri": "https://localhost:8080/"
        }
      },
      "source": [
        "intersection_list = np.amin(n_grams.toarray(), axis=0)\n",
        "\n",
        "intersection_list"
      ],
      "execution_count": 11,
      "outputs": [
        {
          "output_type": "execute_result",
          "data": {
            "text/plain": [
              "array([0, 0, 1, 0, 0, 0, 1, 0, 1, 1, 1, 0, 0, 0, 0, 0, 0, 0])"
            ]
          },
          "metadata": {
            "tags": []
          },
          "execution_count": 11
        }
      ]
    },
    {
      "cell_type": "code",
      "metadata": {
        "id": "Ia-KCnDtEGbh",
        "outputId": "8ea45524-5c80-434f-f0bf-fa1f01d3033e",
        "colab": {
          "base_uri": "https://localhost:8080/"
        }
      },
      "source": [
        "intersection_count = np.sum(intersection_list)\n",
        "intersection_count"
      ],
      "execution_count": 12,
      "outputs": [
        {
          "output_type": "execute_result",
          "data": {
            "text/plain": [
              "5"
            ]
          },
          "metadata": {
            "tags": []
          },
          "execution_count": 12
        }
      ]
    },
    {
      "cell_type": "code",
      "metadata": {
        "id": "UzanXz4nEWAc",
        "outputId": "9fd127ae-72cd-4256-e844-1b843685b8cb",
        "colab": {
          "base_uri": "https://localhost:8080/"
        }
      },
      "source": [
        "index_A = 0\n",
        "\n",
        "A_count = np.sum(n_grams.toarray()[index_A])\n",
        "A_count"
      ],
      "execution_count": 13,
      "outputs": [
        {
          "output_type": "execute_result",
          "data": {
            "text/plain": [
              "13"
            ]
          },
          "metadata": {
            "tags": []
          },
          "execution_count": 13
        }
      ]
    },
    {
      "cell_type": "code",
      "metadata": {
        "id": "E94CJaqOEpZw",
        "outputId": "949af71b-6362-4023-dbb8-cf7a2be36ee6",
        "colab": {
          "base_uri": "https://localhost:8080/"
        }
      },
      "source": [
        "intersection_count/A_count"
      ],
      "execution_count": 14,
      "outputs": [
        {
          "output_type": "execute_result",
          "data": {
            "text/plain": [
              "0.38461538461538464"
            ]
          },
          "metadata": {
            "tags": []
          },
          "execution_count": 14
        }
      ]
    },
    {
      "cell_type": "markdown",
      "metadata": {
        "id": "X5DsJEC_FU9R"
      },
      "source": [
        "> Criando uma função que recebe um array-de-gramas\n",
        "\n",
        "\n",
        "\n",
        "\n"
      ]
    },
    {
      "cell_type": "code",
      "metadata": {
        "id": "_KRSabquE6TA"
      },
      "source": [
        "def containment(n_grams_array):\n",
        "  #Calcula o contaiment entre dois textos\n",
        "  #Nomaliza a interseção dos contadores de n-gramas\n",
        "\n",
        "  #Cria uma lista que contém o valor minimo encontrado nas colunas \n",
        "  #0 se não houver correspondências e 1+ para as palavras correspondentes\n",
        "\n",
        "  intersection_list = np.amin(n_grams_array, axis= 0)\n",
        "\n",
        "  #Soma numero de interseção\n",
        "\n",
        "  intersection_count = np.sum(intersection_list)\n",
        "\n",
        "  #Conta número de n-gramas no texto 1\n",
        "\n",
        "  A_idx = 0\n",
        "  A_count = np.sum(n_grams_array[A_idx])\n",
        "\n",
        "  #Normaliza e calcula valor final\n",
        "\n",
        "  containment_val = intersection_count/ A_count\n",
        "\n",
        "  return containment_val"
      ],
      "execution_count": 18,
      "outputs": []
    },
    {
      "cell_type": "code",
      "metadata": {
        "id": "HPvvsh7YG4BY",
        "outputId": "d2e43b5b-44f9-40d1-d1e9-3c03cdbf21e6",
        "colab": {
          "base_uri": "https://localhost:8080/"
        }
      },
      "source": [
        "containment_val = containment(n_grams.toarray())\n",
        "\n",
        "print('Containment: ', containment_val)"
      ],
      "execution_count": 19,
      "outputs": [
        {
          "output_type": "stream",
          "text": [
            "Containment:  0.38461538461538464\n"
          ],
          "name": "stdout"
        }
      ]
    },
    {
      "cell_type": "markdown",
      "metadata": {
        "id": "5yIVL7o7Kiah"
      },
      "source": [
        "> Para Bigrama"
      ]
    },
    {
      "cell_type": "code",
      "metadata": {
        "id": "BLOalcn6KObU",
        "outputId": "d0116d28-186f-4037-e8dc-975f7f74733a",
        "colab": {
          "base_uri": "https://localhost:8080/"
        }
      },
      "source": [
        "#para n = n\n",
        "\n",
        "counts_2grams = CountVectorizer(analyzer='word', ngram_range=(2,2))\n",
        "\n",
        "bigram_counts = counts_2grams.fit_transform([texto_comparado,texto_fonte])\n",
        "\n",
        "#Calcula Containment\n",
        "\n",
        "containment_val = containment(bigram_counts.toarray())\n",
        "\n",
        "print('Containment for n=2: ', containment_val)"
      ],
      "execution_count": 21,
      "outputs": [
        {
          "output_type": "stream",
          "text": [
            "Containment for n=2:  0.16666666666666666\n"
          ],
          "name": "stdout"
        }
      ]
    },
    {
      "cell_type": "code",
      "metadata": {
        "id": "ECeY0Q9sLrpM"
      },
      "source": [
        ""
      ],
      "execution_count": null,
      "outputs": []
    }
  ]
}